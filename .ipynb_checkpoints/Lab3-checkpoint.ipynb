{
 "cells": [
  {
   "cell_type": "markdown",
   "metadata": {},
   "source": [
    "# Weighted Majority"
   ]
  },
  {
   "cell_type": "markdown",
   "metadata": {},
   "source": [
    "We start by implementing Weighted Majority from Class 4. Let us use\n",
    "the following header"
   ]
  },
  {
   "cell_type": "code",
   "execution_count": 3,
   "metadata": {},
   "outputs": [],
   "source": [
    "import numpy as np"
   ]
  },
  {
   "cell_type": "code",
   "execution_count": null,
   "metadata": {},
   "outputs": [],
   "source": [
    "def weighted_majority(expertsPredictions,outcomes,beta):\n",
    "    \n",
    "    # weighted_majority(expertsPredictions,outcomes,beta) generates predictions \n",
    "    # produced by the weighted majority algorithm given expertsPredictions (this \n",
    "    # is a matrix whose lines are sequences of predictions), outcomes, and beta\n",
    "    \n",
    "    T = expertsPredictions.shape[1] # time\n",
    "    N = expertsPredictions.shape[0] # number of experts"
   ]
  },
  {
   "cell_type": "markdown",
   "metadata": {},
   "source": [
    "It will work as follows. It will receive experts' predictions as `expertsPredictions`; row $n$ of this matrix contains predictions output by expert $E_n$. The vector `outcomes` will contain the sequence of outcomes.\n",
    "\n",
    "Of course, in real life we have a different scenario: experts' predictions and outcomes arrive one after the other. However, here we will take them retrospectively all at once.\n",
    "\n",
    "We start by initialising weights to 1 by `weights = np.ones(N)` and predictions `predictions = np.ones(T)*np.nan`. Assigning `nan`s from the start is a handy trick. Later we will replace them by the actual predictions. Since `nan`s cannot be confused with numbers, we can spot errors this way.\n",
    "\n",
    "The structure of the program is as follows:\n",
    "\n",
    "For $t$ ranging from $0$ to $T-1$:\n",
    "* calculate prediction $\\gamma$ using current weights and experts' predictions\n",
    "* adds our prediction to the array predictions: `predictions[t]`$=\\gamma$\n",
    "* update the weights\n",
    "\n",
    "Let us keep just one vector of weights. We will update it rather than\n",
    "store all weights for all trials.\n",
    "\n",
    "To calculate $\\gamma$, consider the vector of experts' predictions on\n",
    "trial $t$: `expertsPredictions[:,t]`. Some of them are 0s and some\n",
    "are 1s. We let $\\gamma=1$ if the sum of weights of experts that\n",
    "predict 1 is greater than (or equal to) the sum of weights of experts\n",
    "that predict 0. Think how this can be implemented.\n",
    "\n",
    "To update the weights we use the formula\n",
    "$$\n",
    "w_t^i=\\left\\{\n",
    "  \\begin{array}{ll}\n",
    "  w_{t-1}^i\\beta & \\text{if expert $E_i$ made a mistake on trial\n",
    "    $t$}\\\\\n",
    "  w_{t-1}^i & \\text{otherwise}\n",
    "  \\end{array}\n",
    "\\right.\n",
    "$$\n",
    "You may want to use this:\n",
    "$$\n",
    "|\\gamma-\\omega|=\n",
    "\\left\\{\n",
    "\\begin{array}{ll}\n",
    "  1& \\text{if $\\omega\\ne\\gamma$}\\\\\n",
    "  0 & \\text{otherwise}\n",
    "  \\end{array}\n",
    "\\right.\n",
    "$$\n",
    "\n",
    "To test your program, use this example:"
   ]
  },
  {
   "cell_type": "code",
   "execution_count": 5,
   "metadata": {},
   "outputs": [],
   "source": [
    "expertsPredictions = np.array([[0,1,0,1], [1,1,1,0], [0,1,0,0]])\n",
    "outcomes = np.array([0,1,1,0])\n",
    "beta = 0.5"
   ]
  },
  {
   "cell_type": "markdown",
   "metadata": {},
   "source": [
    "Work out Weighted Majority predictions by hand."
   ]
  },
  {
   "cell_type": "markdown",
   "metadata": {},
   "source": [
    "# Plotting"
   ]
  },
  {
   "cell_type": "code",
   "execution_count": 11,
   "metadata": {},
   "outputs": [],
   "source": [
    "import matplotlib.pyplot as plt"
   ]
  },
  {
   "cell_type": "markdown",
   "metadata": {},
   "source": [
    "Let"
   ]
  },
  {
   "cell_type": "code",
   "execution_count": null,
   "metadata": {},
   "outputs": [],
   "source": [
    "predictions = weighted_majority(expertsPredictions,outcomes,3/4)"
   ]
  },
  {
   "cell_type": "markdown",
   "metadata": {},
   "source": [
    "We can calculate experts' losses and our loss on every trial:"
   ]
  },
  {
   "cell_type": "code",
   "execution_count": null,
   "metadata": {},
   "outputs": [],
   "source": [
    "ourLoss = np.abs(predictions - outcomes)\n",
    "expertsLosses = abs(expertsPredictions - outcomes) "
   ]
  },
  {
   "cell_type": "markdown",
   "metadata": {},
   "source": [
    "The second line in this is rather remarkable: here we subtract a vector from a matrix! This is possible if the number of columns matches the number of components in the vector. Then Python subtracts the vector from every row of the matrix. As an experiment, try"
   ]
  },
  {
   "cell_type": "code",
   "execution_count": 10,
   "metadata": {},
   "outputs": [
    {
     "name": "stdout",
     "output_type": "stream",
     "text": [
      "[[0 1]\n",
      " [2 3]\n",
      " [4 5]]\n"
     ]
    }
   ],
   "source": [
    "print(np.array([[1,2],[3,4],[5,6]])-np.array([1,1]))"
   ]
  },
  {
   "cell_type": "markdown",
   "metadata": {},
   "source": [
    "Let us plot the losses. Plotting `ourLoss` as it is is of little use. The guarantees we have apply to the cumulative loss and this is what we should plot. "
   ]
  },
  {
   "cell_type": "code",
   "execution_count": null,
   "metadata": {},
   "outputs": [],
   "source": [
    "plt.plot(np.cumsum(ourLoss))"
   ]
  },
  {
   "cell_type": "markdown",
   "metadata": {},
   "source": [
    "The function `cumsum` calculates the \"cumulative sums\" of a\n",
    "vector $x$. It outputs $x_1,x_1+x_2,x_1+x_2+x_3$ etc. As an experiment\n",
    "try"
   ]
  },
  {
   "cell_type": "code",
   "execution_count": 13,
   "metadata": {},
   "outputs": [
    {
     "name": "stdout",
     "output_type": "stream",
     "text": [
      "[1 2 3 4]\n"
     ]
    }
   ],
   "source": [
    "print(np.cumsum(np.array([1,1,1,1])))"
   ]
  },
  {
   "cell_type": "markdown",
   "metadata": {},
   "source": [
    "The loss of $E_1$ can be plotted as follows:"
   ]
  },
  {
   "cell_type": "code",
   "execution_count": null,
   "metadata": {},
   "outputs": [],
   "source": [
    "plt.plot(np.cumsum(expertsLosses[0,:]))"
   ]
  },
  {
   "cell_type": "markdown",
   "metadata": {},
   "source": [
    "We can put several plots on one picture as follows:"
   ]
  },
  {
   "cell_type": "code",
   "execution_count": null,
   "metadata": {},
   "outputs": [],
   "source": [
    "T = outcomes.size\n",
    "time = np.arange(T)+1.\n",
    "plt.plot(time,np.cumsum(ourLoss),time,np.cumsum(expertsLosses[0,:]))"
   ]
  },
  {
   "cell_type": "markdown",
   "metadata": {},
   "source": [
    "# Numerical Problems"
   ]
  },
  {
   "cell_type": "markdown",
   "metadata": {},
   "source": [
    "Let us try our method on a large dataset. We will generate random experts predictions."
   ]
  },
  {
   "cell_type": "code",
   "execution_count": null,
   "metadata": {},
   "outputs": [],
   "source": [
    "T = 10000\n",
    "expertsPredictions = np.floor(2*np.random.rand(4,T))\n",
    "outcomes = np.floor(2*np.random.rand(T))\n",
    "predictions = weighted_majority(expertsPredictions,outcomes,0.5)"
   ]
  },
  {
   "cell_type": "markdown",
   "metadata": {},
   "source": [
    "Make sure the program works fine and there are no error\n",
    "messages.\n",
    "\n",
    "Let us inspect the weights inside the program though. We will write a version of our function for debugging, output\n",
    "the weights in a matrix, and plot them to see how they change."
   ]
  },
  {
   "cell_type": "code",
   "execution_count": null,
   "metadata": {},
   "outputs": [],
   "source": [
    "def weighted_majority_debug(expertsPredictions,outcomes,beta):\n",
    "    \n",
    "    # weighted_majority_debug(expertsPredictions,outcomes,beta) is similar to \n",
    "    # weighted_majority_debug(expertsPredictions,outcomes,beta), but it outputs the matrix\n",
    "    # of weights W, where the t-th column contains the weights at time t\n",
    "\n",
    "    # ...\n",
    "    \n",
    "    weights = np.ones(N)\n",
    "    W = weights.reshape(N,1)\n",
    "    \n",
    "    # ... your loop over time:\n",
    "    \n",
    "    W = np.concatenate((W,weights.reshape((N,1))),axis=1) # inside the loop\n",
    "    \n",
    "    # ...\n",
    "    \n",
    "    return W"
   ]
  },
  {
   "cell_type": "code",
   "execution_count": null,
   "metadata": {},
   "outputs": [],
   "source": [
    "W = weighted_majority_debug(expertsPredictions,outcomes,0.5)"
   ]
  },
  {
   "cell_type": "markdown",
   "metadata": {},
   "source": [
    "We can now plot the weights of the first expert:"
   ]
  },
  {
   "cell_type": "code",
   "execution_count": null,
   "metadata": {},
   "outputs": [],
   "source": [
    "plt.plot(W[0,:])"
   ]
  },
  {
   "cell_type": "markdown",
   "metadata": {},
   "source": [
    "This graph is not very informative: we see that the weights quickly go to 0. Let us zoom in:"
   ]
  },
  {
   "cell_type": "code",
   "execution_count": null,
   "metadata": {},
   "outputs": [],
   "source": [
    "plt.plot(W[0,0:1000])"
   ]
  },
  {
   "cell_type": "code",
   "execution_count": null,
   "metadata": {},
   "outputs": [],
   "source": [
    "plt.plot(W[0,1000:2000])"
   ]
  },
  {
   "cell_type": "code",
   "execution_count": null,
   "metadata": {},
   "outputs": [],
   "source": [
    "plt.plot(W[0,2000:3000])"
   ]
  },
  {
   "cell_type": "code",
   "execution_count": null,
   "metadata": {},
   "outputs": [],
   "source": [
    "plt.plot(W[0,3000:4000])"
   ]
  },
  {
   "cell_type": "markdown",
   "metadata": {},
   "source": [
    "How do you interpret the resulting pictures?\n",
    "\n",
    "This behaviour is caused by the weights getting too close to zero. From some point on Python can no longer see the difference from 0.\n",
    "\n",
    "The\n",
    "problem can be solved by normalisation. Add the line `weights = weights/np.sum(weights)` inside the loop over $t$. This will make sure that the weights sum up to 1 and will not get too close to 0."
   ]
  },
  {
   "cell_type": "markdown",
   "metadata": {},
   "source": [
    "# Substitution Function"
   ]
  },
  {
   "cell_type": "markdown",
   "metadata": {},
   "source": [
    "In this section we discuss a building block for the Aggregating\n",
    "Algorithm: a substitution function for the binary square-loss game."
   ]
  },
  {
   "cell_type": "code",
   "execution_count": null,
   "metadata": {},
   "outputs": [],
   "source": [
    "def substitutionFunctionSquare(p,expertsPredictions):\n",
    "\n",
    "    # substitutionFunctionSquare(p,expertsPredictions) calculates a\n",
    "    # prediction for the binary square-loss game given experts' \n",
    "    # weights p and predictions expertsPredictions\n",
    "    \n",
    "    # ...\n",
    "    \n",
    "    return gamma"
   ]
  },
  {
   "cell_type": "markdown",
   "metadata": {},
   "source": [
    "Here vector `p` contains experts' weights (on one trial) and\n",
    "vector `expertsPredictions` predictions (on one trial; not all\n",
    "predictions across time as before).\n",
    "\n",
    "We will use the following formula:\n",
    "$$\n",
    "\\gamma = \\frac 12 - \\frac{g(1)-g(0)}{2}\n",
    "$$\n",
    "where\n",
    "$$\n",
    "g(\\omega) = -\\frac 1\\eta\\ln\\sum_{n=1}^Np_t^ne^{-\\eta\\lambda(\\gamma_n^t,\\omega)}.\n",
    "$$\n",
    "In our case $\\eta=2$ and $\\lambda(\\gamma,\\omega)=(\\gamma-\\omega)^2$.\n",
    "Thus\n",
    "\\begin{align*}\n",
    "g(1) &= -\\frac 12\\ln\\sum_{n=1}^Np_t^ne^{-2(\\gamma_n^t-1)^2}\\\\\n",
    "g(0) &= -\\frac 12\\ln\\sum_{n=1}^Np_t^ne^{-2(\\gamma_n^t)^2}\n",
    "\\end{align*}\n",
    "\n",
    "Calculate `g1`, `g0`, and then $\\gamma$. For $e^x$ use `np.exp(x)` and for $\\ln x$ use `np.log(x)`."
   ]
  },
  {
   "cell_type": "code",
   "execution_count": null,
   "metadata": {},
   "outputs": [],
   "source": []
  }
 ],
 "metadata": {
  "kernelspec": {
   "display_name": "Python 3",
   "language": "python",
   "name": "python3"
  },
  "language_info": {
   "codemirror_mode": {
    "name": "ipython",
    "version": 3
   },
   "file_extension": ".py",
   "mimetype": "text/x-python",
   "name": "python",
   "nbconvert_exporter": "python",
   "pygments_lexer": "ipython3",
   "version": "3.6.5"
  }
 },
 "nbformat": 4,
 "nbformat_minor": 2
}
